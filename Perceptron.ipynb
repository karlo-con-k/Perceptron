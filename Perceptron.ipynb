{
 "cells": [
  {
   "attachments": {},
   "cell_type": "markdown",
   "metadata": {},
   "source": [
    "Mi perceptron multi capa para clasificar datos."
   ]
  },
  {
   "cell_type": "code",
   "execution_count": 2,
   "metadata": {},
   "outputs": [],
   "source": [
    "import numpy as np"
   ]
  },
  {
   "cell_type": "code",
   "execution_count": 113,
   "metadata": {},
   "outputs": [],
   "source": [
    "class Perceptron:\n",
    "    def __init__(self, capas = None):\n",
    "        if capas is None:   self.capas = [np.matrix([[0],[0]])]  \n",
    "        else:               self.capas = capas                  #* Paso mi lista de matrices que son los pesos de las capas del Perceptron\n",
    "            \n",
    "        self.dim_input  = self.capas[0].shape[0]\n",
    "        self.dim_output = self.capas[-1].shape[1]\n",
    "        \n",
    "    def __str__(self):\n",
    "        print(\"dim_input  = \", self.dim_input)\n",
    "        print(\"dim_output = \", self.dim_output)\n",
    "        return f\"{self.capas}\""
   ]
  },
  {
   "cell_type": "code",
   "execution_count": 125,
   "metadata": {},
   "outputs": [
    {
     "name": "stdout",
     "output_type": "stream",
     "text": [
      "dim_input  =  2\n",
      "dim_output =  1\n",
      "[matrix([[1],\n",
      "        [1]])]\n"
     ]
    }
   ],
   "source": [
    "x_0 = [np.matrix([[1], [1]])]\n",
    "perceptron = Perceptron(x_0)\n",
    "print(perceptron)"
   ]
  }
 ],
 "metadata": {
  "kernelspec": {
   "display_name": "Python 3",
   "language": "python",
   "name": "python3"
  },
  "language_info": {
   "codemirror_mode": {
    "name": "ipython",
    "version": 3
   },
   "file_extension": ".py",
   "mimetype": "text/x-python",
   "name": "python",
   "nbconvert_exporter": "python",
   "pygments_lexer": "ipython3",
   "version": "3.10.9"
  },
  "orig_nbformat": 4,
  "vscode": {
   "interpreter": {
    "hash": "4b17f24291e6f4d0f7f7fbbc6b2f5ba6adca1e7a8aad1e2579247a03377923cd"
   }
  }
 },
 "nbformat": 4,
 "nbformat_minor": 2
}
