{
 "cells": [
  {
   "attachments": {},
   "cell_type": "markdown",
   "metadata": {},
   "source": [
    "Test de mi perceptron"
   ]
  },
  {
   "cell_type": "code",
   "execution_count": 16,
   "metadata": {},
   "outputs": [
    {
     "name": "stdout",
     "output_type": "stream",
     "text": [
      "dim_input  =  2\n",
      "dim_output =  1\n",
      "[matrix([[-1.],\n",
      "        [ 5.],\n",
      "        [ 0.]])]\n"
     ]
    }
   ],
   "source": [
    "import numpy as np\n",
    "from main import producto\n",
    "from main import Perceptron \n",
    "\n",
    "# x_0 = [np.matrix([[0.0],\n",
    "#                   [5.0], \n",
    "#                   [0.0]]), np.matrix([[0.0],\n",
    "#                   [5.0], \n",
    "#                   [0.0]])]\n",
    "\n",
    "x_0 = [np.matrix([[-1.0],\n",
    "                  [5.0], \n",
    "                  [0.0]])]\n",
    "                  \n",
    "perceptron = Perceptron(x_0)\n",
    "# perceptron\n",
    "print(perceptron)"
   ]
  },
  {
   "cell_type": "code",
   "execution_count": 17,
   "metadata": {},
   "outputs": [],
   "source": [
    "datos = []\n",
    "n = 1000\n",
    "for j in range(n):\n",
    "    datos.append([[-1.0,-1.0], 0])\n",
    "for j in range(n):\n",
    "    datos.append([[1.0, -1.0], 1])"
   ]
  },
  {
   "cell_type": "code",
   "execution_count": 18,
   "metadata": {},
   "outputs": [
    {
     "name": "stdout",
     "output_type": "stream",
     "text": [
      "dim_input  =  2\n",
      "dim_output =  1\n",
      "[matrix([[-10.80315981],\n",
      "        [  1.07885254],\n",
      "        [  0.        ]])]\n"
     ]
    }
   ],
   "source": [
    "\n",
    "for j in range(1):\n",
    "    perceptron.fit(datos, tam_paso=10)\n",
    "print(perceptron)"
   ]
  },
  {
   "cell_type": "code",
   "execution_count": 19,
   "metadata": {},
   "outputs": [],
   "source": [
    "def function(x,y):\n",
    "    l = []\n",
    "    for (j, i) in zip(x, y):\n",
    "        for ii, jj in zip(i,j):            \n",
    "            l.append(perceptron.predecir_dato([ii,-jj]))\n",
    "    return l\n"
   ]
  },
  {
   "cell_type": "code",
   "execution_count": 20,
   "metadata": {},
   "outputs": [
    {
     "name": "stdout",
     "output_type": "stream",
     "text": [
      "Error =  999.9332799650304\n",
      "Presicion =  0.0\n",
      "Exactitud =  0.0\n"
     ]
    },
    {
     "data": {
      "image/png": "[encoded data removed]",
      "text/plain": [
       "<Figure size 640x480 with 2 Axes>"
      ]
     },
     "metadata": {},
     "output_type": "display_data"
    }
   ],
   "source": [
    "\n",
    "import matplotlib.pyplot as plt    \n",
    "plt.figure()\n",
    "\n",
    "x = np.arange(-4, 4, 0.1)\n",
    "y = np.arange(-4, 4, 0.1)\n",
    "X, Y = np.meshgrid(x, y)\n",
    "\n",
    "fxy = function(X, Y) \n",
    "fxy = np.array(fxy)\n",
    "fxy = fxy.reshape(len(x), len(y))\n",
    "\n",
    "print(\"Error = \", perceptron.error(datos))\n",
    "print(\"Presicion = \", perceptron.presicion(datos))\n",
    "print(\"Exactitud = \", perceptron.exactitud(datos))\n",
    "\n",
    "plt.imshow(fxy);\n",
    "plt.colorbar();\n",
    "plt.show()"
   ]
  }
 ],
 "metadata": {
  "kernelspec": {
   "display_name": "Python 3",
   "language": "python",
   "name": "python3"
  },
  "language_info": {
   "codemirror_mode": {
    "name": "ipython",
    "version": 3
   },
   "file_extension": ".py",
   "mimetype": "text/x-python",
   "name": "python",
   "nbconvert_exporter": "python",
   "pygments_lexer": "ipython3",
   "version": "3.10.9"
  },
  "orig_nbformat": 4,
  "vscode": {
   "interpreter": {
    "hash": "4b17f24291e6f4d0f7f7fbbc6b2f5ba6adca1e7a8aad1e2579247a03377923cd"
   }
  }
 },
 "nbformat": 4,
 "nbformat_minor": 2
}
